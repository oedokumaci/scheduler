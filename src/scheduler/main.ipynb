{
 "cells": [
  {
   "cell_type": "code",
   "execution_count": null,
   "metadata": {},
   "outputs": [],
   "source": [
    "%load_ext autoreload\n",
    "\n",
    "%autoreload 2\n",
    "\n",
    "import pickle\n",
    "from datetime import datetime\n",
    "\n",
    "import pandas as pd\n",
    "from rich import print as rprint\n",
    "\n",
    "from scheduler.config import YAML_CONFIG\n",
    "from scheduler.exam_proctor import Exam, Proctor\n",
    "from scheduler.path import OUTPUTS_DIR\n",
    "from scheduler.planner import Planner\n",
    "from scheduler.prep_data import Parser, Prepper\n",
    "from scheduler.simulator import Simulator\n",
    "from scheduler.utils import init_logger\n",
    "\n",
    "pd.set_option(\"display.max_columns\", None)"
   ]
  },
  {
   "cell_type": "code",
   "execution_count": null,
   "metadata": {},
   "outputs": [],
   "source": [
    "# Initialize logger\n",
    "init_logger(\"logs.log\")"
   ]
  },
  {
   "cell_type": "code",
   "execution_count": null,
   "metadata": {},
   "outputs": [],
   "source": [
    "parser = Parser(YAML_CONFIG)\n",
    "prepper = Prepper(*parser.parse(), YAML_CONFIG)\n",
    "prepper.prepare(auto_add=False)"
   ]
  },
  {
   "cell_type": "code",
   "execution_count": null,
   "metadata": {},
   "outputs": [],
   "source": [
    "number_of_simulations = 5000\n",
    "\n",
    "planner = Planner(prepper.exams, prepper.proctors)\n",
    "simulator = Simulator(planner, number_of_simulations)\n",
    "simulator.simulate()\n",
    "simulator.measure_fairness_all()\n",
    "ordered_by_fairness = simulator.order_by_fairness()"
   ]
  },
  {
   "cell_type": "code",
   "execution_count": null,
   "metadata": {},
   "outputs": [],
   "source": [
    "col_0 = \"SIMULATION NUMBER\"\n",
    "col_1 = \"TOTAL MAX-MIN\"\n",
    "col_2 = \"TOTAL STDEV 1ST\"\n",
    "col_3 = \"TOTAL STDEV ALL\"\n",
    "print(f\"{col_0:22}{col_1:16}{col_2:16}{col_3:16}\")\n",
    "for sim in ordered_by_fairness[:5]:\n",
    "    val_0 = sim\n",
    "    val_1 = simulator.fairness_results[sim][1]\n",
    "    val_2 = simulator.fairness_results[sim][2]\n",
    "    val_3 = simulator.fairness_results[sim][3]\n",
    "    print(f\"{val_0:<22}{val_1:<16}{val_2:<16.2f}{val_3:<16.2f}\")"
   ]
  },
  {
   "cell_type": "code",
   "execution_count": null,
   "metadata": {},
   "outputs": [],
   "source": [
    "name1, name2 = \"\", \"\"\n",
    "\n",
    "sim_numbers = []\n",
    "for i in simulator.results:\n",
    "    proctors = simulator.results[i][2]\n",
    "    data = []\n",
    "    for proctor in proctors:\n",
    "        if proctor.name == name1:\n",
    "            data.append(set(exam.code for exam in proctor.duties))\n",
    "        if proctor.name == name2:\n",
    "            data.append(set(exam.code for exam in proctor.duties))\n",
    "    if data[0] == data[1]:\n",
    "        sim_numbers.append(i)\n",
    "\n",
    "sim_numbers = sorted(sim_numbers, key=lambda x: ordered_by_fairness.index(x))\n",
    "\n",
    "col_0 = \"SIMULATION NUMBER\"\n",
    "col_1 = \"TOTAL MAX-MIN\"\n",
    "col_2 = \"TOTAL STDEV 1ST\"\n",
    "col_3 = \"TOTAL STDEV ALL\"\n",
    "print(f\"{col_0:22}{col_1:16}{col_2:16}{col_3:16}\")\n",
    "for sim in sim_numbers[:5]:\n",
    "    val_0 = sim\n",
    "    val_1 = simulator.fairness_results[sim][1]\n",
    "    val_2 = simulator.fairness_results[sim][2]\n",
    "    val_3 = simulator.fairness_results[sim][3]\n",
    "    print(f\"{val_0:<22}{val_1:<16}{val_2:<16.2f}{val_3:<16.2f}\")"
   ]
  },
  {
   "cell_type": "code",
   "execution_count": null,
   "metadata": {},
   "outputs": [],
   "source": [
    "investigate = 3835\n",
    "\n",
    "_, exams, proctors, blocks = simulator.results[investigate]"
   ]
  },
  {
   "cell_type": "code",
   "execution_count": null,
   "metadata": {},
   "outputs": [],
   "source": [
    "for proctor in proctors:\n",
    "    if proctor.name == name1:\n",
    "        print(proctor.name)\n",
    "        for exam in proctor.duties:\n",
    "            print(exam.title, exam.classroom)\n",
    "    if proctor.name == name2:\n",
    "        print(proctor.name)\n",
    "        for exam in proctor.duties:\n",
    "            print(exam.title, exam.classroom)\n",
    "    "
   ]
  },
  {
   "cell_type": "code",
   "execution_count": null,
   "metadata": {},
   "outputs": [],
   "source": [
    "grand_total = {proctor: len(proctor.duties) + proctor.total_proctored_before for proctor in proctors}\n",
    "sorted_grand_total = sorted(grand_total.items(), key=lambda item: item[1])\n",
    "col_0 = \"PROCTOR\"\n",
    "col_1 = \"TOTAL DUTIES\"\n",
    "col_2 = \"TOTAL BEFORE\"\n",
    "col_3 = \"GRAND TOTAL\"\n",
    "print(f\"{col_0:22}{col_1:15}{col_2:15}{col_3:15}\")\n",
    "for proctor, duties in sorted_grand_total:\n",
    "    print(f\"{proctor.name:22}{len(proctor.duties)}{proctor.total_proctored_before:15}{duties:15}\")"
   ]
  },
  {
   "attachments": {},
   "cell_type": "markdown",
   "metadata": {},
   "source": [
    "## PICKLES"
   ]
  },
  {
   "cell_type": "code",
   "execution_count": null,
   "metadata": {},
   "outputs": [],
   "source": [
    "def dump_to_pickle(obj: list[Exam] | list[Proctor], name: str) -> None:\n",
    "    with open(OUTPUTS_DIR / \"pickles\" / f\"{name}.pkl\", \"wb\") as file:\n",
    "        pickle.dump(obj, file)\n",
    "\n",
    "dump = False\n",
    "\n",
    "if dump:\n",
    "    # dump to pickle\n",
    "    description = f\"{investigate}_best_of_the_bests\"\n",
    "\n",
    "    dump_to_pickle(exams, f\"exams_{description}\")\n",
    "    dump_to_pickle(proctors, f\"proctors_{description}\")\n",
    "    # dump_to_pickle(blocks, f\"blocks_{description}\")"
   ]
  },
  {
   "cell_type": "code",
   "execution_count": null,
   "metadata": {},
   "outputs": [],
   "source": [
    "def read_from_pickle(name: str) -> list[Exam] | list[Proctor]:\n",
    "    with open(OUTPUTS_DIR / \"pickles\" / f\"{name}.pkl\", \"rb\") as file:\n",
    "        return pickle.load(file)\n",
    "\n",
    "read = False\n",
    "\n",
    "if read:\n",
    "    exams: list[Exam] = read_from_pickle(f\"exams_{description}\")\n",
    "    proctors: list[Proctor] = read_from_pickle(f\"proctors_{description}\")"
   ]
  },
  {
   "cell_type": "code",
   "execution_count": null,
   "metadata": {},
   "outputs": [],
   "source": [
    "for proctor in proctors:\n",
    "    if proctor.name == name1:\n",
    "        print(proctor.name)\n",
    "        for exam in proctor.duties:\n",
    "            print(exam.title, exam.classroom)\n",
    "    if proctor.name == name2:\n",
    "        print(proctor.name)\n",
    "        for exam in proctor.duties:\n",
    "            print(exam.title, exam.classroom)"
   ]
  },
  {
   "cell_type": "code",
   "execution_count": null,
   "metadata": {},
   "outputs": [],
   "source": [
    "grand_total = {proctor: len(proctor.duties) + proctor.total_proctored_before for proctor in proctors}\n",
    "sorted_grand_total = sorted(grand_total.items(), key=lambda item: item[1])\n",
    "col_0 = \"PROCTOR\"\n",
    "col_1 = \"TOTAL DUTIES\"\n",
    "col_2 = \"TOTAL BEFORE\"\n",
    "col_3 = \"GRAND TOTAL\"\n",
    "print(f\"{col_0:22}{col_1:15}{col_2:15}{col_3:15}\")\n",
    "for proctor, duties in sorted_grand_total:\n",
    "    print(f\"{proctor.name:22}{len(proctor.duties)}{proctor.total_proctored_before:15}{duties:15}\")"
   ]
  },
  {
   "attachments": {},
   "cell_type": "markdown",
   "metadata": {},
   "source": [
    "## GENERATE EXCELS"
   ]
  },
  {
   "attachments": {},
   "cell_type": "markdown",
   "metadata": {},
   "source": [
    "## Proctors"
   ]
  },
  {
   "attachments": {},
   "cell_type": "markdown",
   "metadata": {},
   "source": [
    "### Fine Tune"
   ]
  },
  {
   "cell_type": "code",
   "execution_count": null,
   "metadata": {},
   "outputs": [],
   "source": [
    "proc = [proctor for proctor in proctors if proctor.name == name1][0]\n",
    "proc.unavailable = []\n",
    "proc.proctor_class = 1"
   ]
  },
  {
   "attachments": {},
   "cell_type": "markdown",
   "metadata": {},
   "source": [
    "### Generate"
   ]
  },
  {
   "cell_type": "code",
   "execution_count": null,
   "metadata": {},
   "outputs": [],
   "source": [
    "data_of_interest = [\"Name\", \"Email\", \"Year\", \"Total Before\", \"Total Duties\", \"Grand Total\", \"Duties\"]\n",
    "all_blocks_sorted = sorted(blocks)\n",
    "col_names = data_of_interest + all_blocks_sorted\n",
    "\n",
    "rows = []\n",
    "for proctor in proctors:\n",
    "    name = proctor.name\n",
    "    email = proctor.email\n",
    "    year = \"Master 1\" if proctor.proctor_class == 1 else \"Master 2\" if proctor.proctor_class == 2 else \"PhD\"\n",
    "    total_before = proctor.total_proctored_before\n",
    "    total_duties = len(proctor.duties)\n",
    "    grand_total = total_before + total_duties\n",
    "    duties = \"\\n\".join([f\"{exam.title} {exam.classroom}\" for exam in proctor.duties])\n",
    "    first_part = [name, email, year, total_before, total_duties, grand_total, duties]\n",
    "\n",
    "    second_part = []\n",
    "    exam_block_and_title = {exam.block:exam.title for exam in proctor.duties}\n",
    "    \n",
    "    for block in all_blocks_sorted:\n",
    "        if block in proctor.unavailable:\n",
    "            second_part.append(\"1\")\n",
    "        elif block in proctor.not_preferred:\n",
    "            second_part.append(\"2\")\n",
    "        elif block in exam_block_and_title:\n",
    "            second_part.append(exam_block_and_title[block])\n",
    "        else:\n",
    "            second_part.append(\"\")\n",
    "    \n",
    "    rows.append(first_part + second_part)\n",
    "\n",
    "df = pd.DataFrame(rows, columns=col_names).sort_values(by=[\"Year\", \"Grand Total\", \"Name\"], ascending=[True, False, True]).reset_index(drop=True)\n",
    "display(df)\n",
    "    "
   ]
  },
  {
   "cell_type": "code",
   "execution_count": null,
   "metadata": {},
   "outputs": [],
   "source": [
    "df.to_excel(OUTPUTS_DIR / f\"proctors_final.xlsx\", index=False, header=True)"
   ]
  },
  {
   "attachments": {},
   "cell_type": "markdown",
   "metadata": {},
   "source": [
    "## Exams"
   ]
  },
  {
   "attachments": {},
   "cell_type": "markdown",
   "metadata": {},
   "source": [
    "### Generate"
   ]
  },
  {
   "cell_type": "code",
   "execution_count": null,
   "metadata": {},
   "outputs": [],
   "source": [
    "col_names = [\"Exam Title\", \"Exam Date\", \"Reserved Slots\", \"Classroom\", \"Instructors\", \"Number of Proctors Needed\", \"Requires PhD Proctor\", \"Requires Specific Proctors\", \"Proctors Assigned\"]\n",
    "\n",
    "rows = []\n",
    "for exam in exams:\n",
    "    if len(exam.requires_specific_proctor) > 0:\n",
    "        specific_proctor = \", \".join([proctor.name for proctor in exam.requires_specific_proctor])\n",
    "    else:\n",
    "        specific_proctor = \"\"\n",
    "    assigned_proctors = \", \".join([proctor.name for proctor in exam.proctors])\n",
    "    requires_phd_proctor = \"Yes\" if exam.requires_phd_proctor else \"\"\n",
    "    rows.append((exam.title, exam.date, exam.time, exam.classroom, exam.instructor, exam.number_of_proctors_needed, requires_phd_proctor, specific_proctor, assigned_proctors))\n",
    "\n",
    "df = pd.DataFrame(rows, columns=col_names).sort_values(by=[\"Exam Date\", \"Reserved Slots\", \"Instructors\"], ascending=[True, True, True]).reset_index(drop=True)\n",
    "display(df)"
   ]
  },
  {
   "cell_type": "code",
   "execution_count": null,
   "metadata": {},
   "outputs": [],
   "source": [
    "df.to_excel(OUTPUTS_DIR / f\"exams_final.xlsx\", index=False, header=True)"
   ]
  },
  {
   "attachments": {},
   "cell_type": "markdown",
   "metadata": {},
   "source": [
    "## Emails"
   ]
  },
  {
   "cell_type": "code",
   "execution_count": null,
   "metadata": {},
   "outputs": [],
   "source": [
    "def format_date(date_str: str) -> str:\n",
    "    # Parse the input date string into a datetime object\n",
    "    date = datetime.strptime(date_str, '%Y-%m-%d')\n",
    "\n",
    "    # Format the date as 'Month Day, Year, Weekday'\n",
    "    formatted_date = date.strftime('%B %d, %Y, %A')\n",
    "\n",
    "    return formatted_date\n",
    "\n",
    "chair = \"Emin Karagözoğlu\"\n",
    "\n",
    "nl = '\\n'\n",
    "\n",
    "def generate_email_to_and_body(exams: list[Exam]) -> str:\n",
    "    proctors = [proctor for exam in exams for proctor in exam.proctors]\n",
    "    row_1 = \"Course Title:\"\n",
    "    row_2 = \"Date:\"\n",
    "    row_3 = \"Time:\"\n",
    "    row_4 = \"Classroom(s):\"\n",
    "    row_5 = \"Instructor(s):\"\n",
    "    \n",
    "    to_field = \", \".join([proctor.email for proctor in proctors])\n",
    "\n",
    "    if len(proctors) == 1:\n",
    "        salutation = f\"Dear {proctors[0].name},\"\n",
    "    else:\n",
    "        salutation = \"Dear All,\"\n",
    "    \n",
    "    classroom_details = [f\"{exam.classroom}: {', '.join([proctor.name for proctor in exam.proctors])}\" for exam in exams]\n",
    "        \n",
    "    body = f\"\"\"{salutation}\n",
    "\n",
    "We need your services as proctor for the following exam.\n",
    "\n",
    "Thank you,\n",
    "\n",
    "{chair}\n",
    "Chair\n",
    "\n",
    "{row_1} {exams[0].title}\n",
    "{row_2} {format_date(exams[0].date)}\n",
    "{row_3} {exams[0].time}\n",
    "{row_4} {', '.join([exam.classroom for exam in exams])}\n",
    "{row_5} {exams[0].instructor}\n",
    "\n",
    "{nl.join(classroom_details)}\n",
    "\"\"\"\n",
    "    return to_field, body"
   ]
  },
  {
   "attachments": {},
   "cell_type": "markdown",
   "metadata": {},
   "source": [
    "### Generate"
   ]
  },
  {
   "cell_type": "code",
   "execution_count": null,
   "metadata": {},
   "outputs": [],
   "source": [
    "data: dict[str, dict[tuple[str, str, str], list[Exam]]] = {}\n",
    "\n",
    "for exam in exams:\n",
    "    exam_title = exam.title\n",
    "    exam_date = exam.date\n",
    "    exam_time = exam.time\n",
    "    exam_instrucor = exam.instructor\n",
    "    key1 = exam.title\n",
    "    key2 = exam.date, exam.time, exam.instructor\n",
    "    if key1 not in data:\n",
    "        data[key1] = {}\n",
    "    if key2 not in data[key1]:\n",
    "        data[key1][key2] = []\n",
    "    data[key1][key2].append(exam)\n"
   ]
  },
  {
   "cell_type": "code",
   "execution_count": null,
   "metadata": {},
   "outputs": [],
   "source": [
    "for key in data:\n",
    "    for value in data[key].values():\n",
    "        to_field, body = generate_email_to_and_body(value)\n",
    "        print(to_field)\n",
    "        print(\"\")\n",
    "        print(body)\n",
    "    break"
   ]
  },
  {
   "cell_type": "code",
   "execution_count": null,
   "metadata": {},
   "outputs": [],
   "source": [
    "col_names = [\"Exam Title\", \"Exam Date\", \"Reserved Slots\", \"Instructors\", \"Email Subject\", \"Email To\", \"Email Body\"]\n",
    "\n",
    "rows = []\n",
    "\n",
    "for exam_title in data:\n",
    "    for exam_date, exam_time, exam_instructor in data[exam_title]:\n",
    "        exams = data[exam_title][exam_date, exam_time, exam_instructor]\n",
    "        subject = f\"Proctoring: {exam_title} on {format_date(exam_date)} at {exam_time}\"\n",
    "        to_field, body = generate_email_to_and_body(exams)\n",
    "        rows.append((exam_title, exam_date, exam_time, exam_instructor, subject, to_field, body))\n",
    "\n",
    "df = pd.DataFrame(rows, columns=col_names).sort_values(by=[\"Exam Date\", \"Reserved Slots\", \"Exam Title\", \"Instructors\"], ascending=[True, True, True, True]).reset_index(drop=True)\n",
    "display(df)"
   ]
  },
  {
   "cell_type": "code",
   "execution_count": null,
   "metadata": {},
   "outputs": [],
   "source": [
    "df.to_excel(OUTPUTS_DIR / f\"emails_final.xlsx\", index=False, header=True)"
   ]
  },
  {
   "cell_type": "code",
   "execution_count": null,
   "metadata": {},
   "outputs": [],
   "source": []
  }
 ],
 "metadata": {
  "kernelspec": {
   "display_name": ".venv",
   "language": "python",
   "name": "python3"
  },
  "language_info": {
   "codemirror_mode": {
    "name": "ipython",
    "version": 3
   },
   "file_extension": ".py",
   "mimetype": "text/x-python",
   "name": "python",
   "nbconvert_exporter": "python",
   "pygments_lexer": "ipython3",
   "version": "3.10.11"
  },
  "orig_nbformat": 4
 },
 "nbformat": 4,
 "nbformat_minor": 2
}
